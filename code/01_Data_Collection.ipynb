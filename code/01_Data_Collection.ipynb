{
 "cells": [
  {
   "cell_type": "code",
   "execution_count": 2,
   "id": "8f9dbaad",
   "metadata": {},
   "outputs": [],
   "source": [
    "import requests\n",
    "import pandas as pd"
   ]
  },
  {
   "cell_type": "code",
   "execution_count": 3,
   "id": "e0510021",
   "metadata": {},
   "outputs": [
    {
     "data": {
      "text/plain": [
       "200"
      ]
     },
     "execution_count": 3,
     "metadata": {},
     "output_type": "execute_result"
    }
   ],
   "source": [
    "url = 'https://api.pushshift.io/reddit/search/submission'\n",
    "\n",
    "params = {\n",
    "    'subreddit': 'LearnUselessTalents',\n",
    "    'size': 100,\n",
    "    'before': 1627783653,\n",
    "}\n",
    "\n",
    "res = requests.get(url, params)\n",
    "res.status_code"
   ]
  },
  {
   "cell_type": "code",
   "execution_count": 4,
   "id": "14c4614b",
   "metadata": {},
   "outputs": [],
   "source": [
    "posts = res.json()['data']"
   ]
  },
  {
   "cell_type": "code",
   "execution_count": 5,
   "id": "22ae968c",
   "metadata": {},
   "outputs": [
    {
     "data": {
      "text/plain": [
       "100"
      ]
     },
     "execution_count": 5,
     "metadata": {},
     "output_type": "execute_result"
    }
   ],
   "source": [
    "len(posts)"
   ]
  },
  {
   "cell_type": "code",
   "execution_count": 6,
   "id": "4915b29e",
   "metadata": {},
   "outputs": [
    {
     "data": {
      "text/html": [
       "<div>\n",
       "<style scoped>\n",
       "    .dataframe tbody tr th:only-of-type {\n",
       "        vertical-align: middle;\n",
       "    }\n",
       "\n",
       "    .dataframe tbody tr th {\n",
       "        vertical-align: top;\n",
       "    }\n",
       "\n",
       "    .dataframe thead th {\n",
       "        text-align: right;\n",
       "    }\n",
       "</style>\n",
       "<table border=\"1\" class=\"dataframe\">\n",
       "  <thead>\n",
       "    <tr style=\"text-align: right;\">\n",
       "      <th></th>\n",
       "      <th>subreddit</th>\n",
       "      <th>title</th>\n",
       "      <th>selftext</th>\n",
       "      <th>created_utc</th>\n",
       "    </tr>\n",
       "  </thead>\n",
       "  <tbody>\n",
       "    <tr>\n",
       "      <th>0</th>\n",
       "      <td>LearnUselessTalents</td>\n",
       "      <td>How to make a Bollywood sample into a drill beat</td>\n",
       "      <td></td>\n",
       "      <td>1627763946</td>\n",
       "    </tr>\n",
       "    <tr>\n",
       "      <th>1</th>\n",
       "      <td>LearnUselessTalents</td>\n",
       "      <td>Began learning how to produce beats</td>\n",
       "      <td></td>\n",
       "      <td>1627751583</td>\n",
       "    </tr>\n",
       "    <tr>\n",
       "      <th>2</th>\n",
       "      <td>LearnUselessTalents</td>\n",
       "      <td>NBA honors late Kentucky guard Terrence Clarke...</td>\n",
       "      <td>[removed]</td>\n",
       "      <td>1627637223</td>\n",
       "    </tr>\n",
       "    <tr>\n",
       "      <th>3</th>\n",
       "      <td>LearnUselessTalents</td>\n",
       "      <td>افضل ايتين لعلاج و ابطال السحر كيف ما كان نوعه...</td>\n",
       "      <td></td>\n",
       "      <td>1627591405</td>\n",
       "    </tr>\n",
       "    <tr>\n",
       "      <th>4</th>\n",
       "      <td>LearnUselessTalents</td>\n",
       "      <td>How to Polishing a coin</td>\n",
       "      <td></td>\n",
       "      <td>1627580459</td>\n",
       "    </tr>\n",
       "  </tbody>\n",
       "</table>\n",
       "</div>"
      ],
      "text/plain": [
       "             subreddit                                              title  \\\n",
       "0  LearnUselessTalents   How to make a Bollywood sample into a drill beat   \n",
       "1  LearnUselessTalents                Began learning how to produce beats   \n",
       "2  LearnUselessTalents  NBA honors late Kentucky guard Terrence Clarke...   \n",
       "3  LearnUselessTalents  افضل ايتين لعلاج و ابطال السحر كيف ما كان نوعه...   \n",
       "4  LearnUselessTalents                            How to Polishing a coin   \n",
       "\n",
       "    selftext  created_utc  \n",
       "0              1627763946  \n",
       "1              1627751583  \n",
       "2  [removed]   1627637223  \n",
       "3              1627591405  \n",
       "4              1627580459  "
      ]
     },
     "execution_count": 6,
     "metadata": {},
     "output_type": "execute_result"
    }
   ],
   "source": [
    "df = pd.DataFrame(posts)[['subreddit', 'title', 'selftext', 'created_utc']]\n",
    "df.head()"
   ]
  },
  {
   "cell_type": "code",
   "execution_count": 16,
   "id": "9e2fb12d",
   "metadata": {},
   "outputs": [
    {
     "data": {
      "text/html": [
       "<div>\n",
       "<style scoped>\n",
       "    .dataframe tbody tr th:only-of-type {\n",
       "        vertical-align: middle;\n",
       "    }\n",
       "\n",
       "    .dataframe tbody tr th {\n",
       "        vertical-align: top;\n",
       "    }\n",
       "\n",
       "    .dataframe thead th {\n",
       "        text-align: right;\n",
       "    }\n",
       "</style>\n",
       "<table border=\"1\" class=\"dataframe\">\n",
       "  <thead>\n",
       "    <tr style=\"text-align: right;\">\n",
       "      <th></th>\n",
       "      <th>subreddit</th>\n",
       "      <th>title</th>\n",
       "      <th>selftext</th>\n",
       "      <th>created_utc</th>\n",
       "    </tr>\n",
       "  </thead>\n",
       "  <tbody>\n",
       "    <tr>\n",
       "      <th>95</th>\n",
       "      <td>LearnUselessTalents</td>\n",
       "      <td>Make a can of soda pop pen loudly</td>\n",
       "      <td></td>\n",
       "      <td>1625246191</td>\n",
       "    </tr>\n",
       "    <tr>\n",
       "      <th>96</th>\n",
       "      <td>LearnUselessTalents</td>\n",
       "      <td>HOW DO I LEARN TO DO WHAT HE IS DOING?</td>\n",
       "      <td></td>\n",
       "      <td>1625229374</td>\n",
       "    </tr>\n",
       "    <tr>\n",
       "      <th>97</th>\n",
       "      <td>LearnUselessTalents</td>\n",
       "      <td>If you lie on the ground and move your arms an...</td>\n",
       "      <td></td>\n",
       "      <td>1625181547</td>\n",
       "    </tr>\n",
       "    <tr>\n",
       "      <th>98</th>\n",
       "      <td>LearnUselessTalents</td>\n",
       "      <td>Is juggling useless/ but fun to watch</td>\n",
       "      <td></td>\n",
       "      <td>1625169181</td>\n",
       "    </tr>\n",
       "    <tr>\n",
       "      <th>99</th>\n",
       "      <td>LearnUselessTalents</td>\n",
       "      <td>Easy &amp;amp; Fastest Paper AirPlanes That fly Far</td>\n",
       "      <td></td>\n",
       "      <td>1625110844</td>\n",
       "    </tr>\n",
       "  </tbody>\n",
       "</table>\n",
       "</div>"
      ],
      "text/plain": [
       "              subreddit                                              title  \\\n",
       "95  LearnUselessTalents                  Make a can of soda pop pen loudly   \n",
       "96  LearnUselessTalents             HOW DO I LEARN TO DO WHAT HE IS DOING?   \n",
       "97  LearnUselessTalents  If you lie on the ground and move your arms an...   \n",
       "98  LearnUselessTalents              Is juggling useless/ but fun to watch   \n",
       "99  LearnUselessTalents    Easy &amp; Fastest Paper AirPlanes That fly Far   \n",
       "\n",
       "   selftext  created_utc  \n",
       "95            1625246191  \n",
       "96            1625229374  \n",
       "97            1625181547  \n",
       "98            1625169181  \n",
       "99            1625110844  "
      ]
     },
     "execution_count": 16,
     "metadata": {},
     "output_type": "execute_result"
    }
   ],
   "source": [
    "df.tail()"
   ]
  },
  {
   "cell_type": "code",
   "execution_count": 38,
   "id": "3f4db9c6",
   "metadata": {},
   "outputs": [
    {
     "data": {
      "text/plain": [
       "{'data': [],\n",
       " 'metadata': {'after': None,\n",
       "  'agg_size': 100,\n",
       "  'api_version': '3.0',\n",
       "  'before': None,\n",
       "  'es_query': {'query': {'bool': {'filter': {'bool': {'must': [{'terms': {'subreddit': ['learnuselesstalents']}}],\n",
       "       'should': []}},\n",
       "     'must_not': []}},\n",
       "   'size': 0,\n",
       "   'sort': {'created_utc': 'desc'}},\n",
       "  'execution_time_milliseconds': 5.34,\n",
       "  'index': 'rs',\n",
       "  'metadata': 'true',\n",
       "  'ranges': [],\n",
       "  'results_returned': 0,\n",
       "  'shards': {'failed': 0, 'skipped': 0, 'successful': 20, 'total': 24},\n",
       "  'size': 0,\n",
       "  'sort': 'desc',\n",
       "  'sort_type': 'created_utc',\n",
       "  'subreddit': ['LearnUselessTalents'],\n",
       "  'timed_out': False,\n",
       "  'total_results': 12985}}"
      ]
     },
     "execution_count": 38,
     "metadata": {},
     "output_type": "execute_result"
    }
   ],
   "source": [
    "params = {\n",
    "    'subreddit': 'LearnUselessTalents',\n",
    "    'size': 0,\n",
    "    'metadata': 'true',\n",
    "}\n",
    "\n",
    "res = requests.get(url, params)\n",
    "\n",
    "res.status_code\n",
    "\n",
    "res.json()"
   ]
  },
  {
   "cell_type": "code",
   "execution_count": null,
   "id": "aeb8e3c4",
   "metadata": {},
   "outputs": [],
   "source": []
  }
 ],
 "metadata": {
  "kernelspec": {
   "display_name": "Python [conda env:ga_dsi] *",
   "language": "python",
   "name": "conda-env-ga_dsi-py"
  },
  "language_info": {
   "codemirror_mode": {
    "name": "ipython",
    "version": 3
   },
   "file_extension": ".py",
   "mimetype": "text/x-python",
   "name": "python",
   "nbconvert_exporter": "python",
   "pygments_lexer": "ipython3",
   "version": "3.8.8"
  }
 },
 "nbformat": 4,
 "nbformat_minor": 5
}
