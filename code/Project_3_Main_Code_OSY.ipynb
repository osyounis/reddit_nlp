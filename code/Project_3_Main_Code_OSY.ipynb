{
 "cells": [
  {
   "cell_type": "markdown",
   "id": "a506f652-b83b-4291-87e1-966963f6368c",
   "metadata": {},
   "source": [
    "# Project 3: Web APIs & NLP\n",
    "\n",
    "_Author:_ Omar Younis\n",
    "\n",
    "---"
   ]
  },
  {
   "cell_type": "markdown",
   "id": "6f844cd4-ab1f-482a-bcdd-130de84d68cd",
   "metadata": {},
   "source": [
    "## Contents:\n",
    "- [Problem Statement](#Problem-Statement)\n",
    "- [Data Collection](#Data-Collection)\n",
    "- [Data Cleaning](#Data-Cleaning)\n",
    "- [Exploratory Data Analysis](#Exploratory-Data-Analysis)\n",
    "- [Processing & Modeling](#Processing-&-Modeling)\n",
    "- [Evaluation and Conceptual Understanding](#Evaluation-and-Conceptual-Understanding)\n",
    "- [Conclusion and Recommendations](#Conclusion-and-Recommendations)\n",
    "---"
   ]
  },
  {
   "cell_type": "markdown",
   "id": "7754ccff-fdc1-4d8e-b4aa-5924e7a51be4",
   "metadata": {},
   "source": [
    "## Problem Statement\n",
    "\n",
    "DreamWorks is a animation studio which has a number of hit films. In the animation world, they are often compaired to their Disney counterparts, Pixar. Because of this DreamWorks is looking to use targeting advertising to find Pixar fans and sway them to become DreamWorks fans. This project explores reddit comments in the `DreamWorks` and `Pixar` subreddits, to find language patterns to patterns to predict whether a person is a `Pixar` fan or a `DreamWorks` fan.\n",
    "\n",
    "---"
   ]
  },
  {
   "cell_type": "markdown",
   "id": "2574be7c-d72b-404e-8be3-a4c3c899614a",
   "metadata": {},
   "source": [
    "## Data Collection"
   ]
  },
  {
   "cell_type": "markdown",
   "id": "7c404940-80a2-402e-bbd9-f3d84a548c7f",
   "metadata": {},
   "source": [
    "#### Imports"
   ]
  },
  {
   "cell_type": "code",
   "execution_count": 267,
   "id": "1ed6881a-d07f-4120-8697-ba41c790673e",
   "metadata": {},
   "outputs": [],
   "source": [
    "\"\"\"This block contain all the imports needed for this document.\"\"\"\n",
    "# Imports\n",
    "import re\n",
    "import time\n",
    "import requests\n",
    "from datetime import datetime\n",
    "\n",
    "import numpy as np\n",
    "import pandas as pd\n",
    "\n",
    "import matplotlib.pyplot as plt\n",
    "import seaborn as sns\n",
    "\n",
    "from sklearn.ensemble import RandomForestClassifier\n",
    "from sklearn.model_selection import cross_val_score, train_test_split, GridSearchCV\n",
    "from sklearn.feature_extraction.text import CountVectorizer\n",
    "from sklearn.linear_model import LogisticRegressionCV\n",
    "from sklearn.naive_bayes import MultinomialNB\n",
    "from sklearn.pipeline import Pipeline\n",
    "from sklearn.neighbors import KNeighborsClassifier\n",
    "from sklearn.metrics import confusion_matrix, plot_confusion_matrix\n",
    "\n",
    "%matplotlib inline"
   ]
  },
  {
   "cell_type": "markdown",
   "id": "ba067317-fbac-47df-bbd1-9ae7451f9ea2",
   "metadata": {},
   "source": [
    "#### Main Code"
   ]
  },
  {
   "cell_type": "code",
   "execution_count": 84,
   "id": "895ed4d0-9c4a-4fc8-a74a-aa014f8b8ad4",
   "metadata": {},
   "outputs": [],
   "source": [
    "\"\"\"This block contains the functions and main code for collecting data for this document.\"\"\"\n",
    "\n",
    "###############\n",
    "#  Settings   #\n",
    "###############\n",
    "\n",
    "pd.options.display.max_colwidth = 400\n",
    "url = 'https://api.pushshift.io/reddit/search/comment'\n",
    "subreddits = ['Pixar', 'DreamWorks']\n",
    "\n",
    "\n",
    "\n",
    "###############\n",
    "#  Functions  #\n",
    "###############\n",
    "\n",
    "def create_reddit_df(subreddit, length, year=2000, month=1, day=1):\n",
    "    \"\"\"Creates a pandas dataframe of posts from a selected subreddit. Dataframe minimum length specified.\"\"\"\n",
    "    # Converting date to epoch time and setting up params for requests.\n",
    "    starting_date = int(datetime(year, month, day, 0, 0).timestamp())\n",
    "    params = {\n",
    "        'subreddit': subreddit,\n",
    "        'size': 100,\n",
    "        'before': starting_date,\n",
    "    }\n",
    "\n",
    "    # Getting data from the web (webscrapping)\n",
    "    req = requests.get(url, params)\n",
    "    page_status = req.status_code\n",
    "    if page_status != 200:\n",
    "        return f\"Error Status Code: {page_status}\"\n",
    "    posts = req.json()['data']\n",
    "\n",
    "    # Adding data to a new Pandas DataFrame. (Remove 'body' and replace with 'title' 'selftext' for posts).\n",
    "    # Currently set up to grab comments instead of posts.\n",
    "    df = pd.DataFrame(posts)[['subreddit','body', 'created_utc']]\n",
    "\n",
    "    # Checking length of DataFrame and getting more entires if df.shape[0] < length (function param).\n",
    "    run_flag = True\n",
    "    while run_flag == True:\n",
    "        # Getting last time entry from DataFrame and getting post from before that data.\n",
    "        new_time = df['created_utc'].tail(1)\n",
    "        params = {\n",
    "            'subreddit': subreddit,\n",
    "            'size': 100,\n",
    "            'before': new_time,\n",
    "        }\n",
    "\n",
    "        req = requests.get(url, params)\n",
    "        posts = req.json()['data']\n",
    "\n",
    "        # Create a new DataFrame for the new posts and merges with the old DataFrame.\n",
    "        df_temp = pd.DataFrame(posts)[['subreddit','body', 'created_utc']]\n",
    "        df = pd.concat([df, df_temp])\n",
    "        #print(df.shape)\n",
    "\n",
    "        # Checks length of DataFrame to see if the loop should stop.\n",
    "        if df.shape[0] >= length:\n",
    "            run_flag = False\n",
    "        else:\n",
    "            time.sleep(1.0)\n",
    "            \n",
    "    return df\n",
    "\n",
    "\n",
    "def create_master_df(subreddits, filename, length, year=2000, month=1, day=1):\n",
    "    \"\"\"Creates the a DataFrame of all the comments pulled from a list of subreddits and saves it to a csv file.\"\"\"\n",
    "    list_of_df = []\n",
    "    \n",
    "    # Looping through each subreddit.\n",
    "    for subreddit in subreddits:\n",
    "        df = create_reddit_df(subreddit, length=length, year=year, month=month, day=day)\n",
    "        list_of_df.append(df)\n",
    "     \n",
    "    # Combining reddit DataFrames into on Master DataFrame and saving it to a .csv locally.\n",
    "    master_df = pd.concat(list_of_df)\n",
    "    master_df.to_csv(f'../data/{filename}.csv')"
   ]
  },
  {
   "cell_type": "markdown",
   "id": "9aaa1bdd",
   "metadata": {},
   "source": [
    "**Only run the block below once!**"
   ]
  },
  {
   "cell_type": "code",
   "execution_count": 35,
   "id": "f4f3e81a",
   "metadata": {},
   "outputs": [],
   "source": [
    "create_master_df(subreddits, 'raw_comment_data', length=2500 , year=2021, month=9, day=12)"
   ]
  },
  {
   "cell_type": "markdown",
   "id": "4fe3a799-ff81-4937-9bca-e107c917b83a",
   "metadata": {},
   "source": [
    "---"
   ]
  },
  {
   "cell_type": "markdown",
   "id": "7b750760",
   "metadata": {},
   "source": [
    "## Data Cleaning"
   ]
  },
  {
   "cell_type": "code",
   "execution_count": 143,
   "id": "274a0505-a9ed-4e14-b2f3-d39e9f26f1e3",
   "metadata": {},
   "outputs": [
    {
     "name": "stdout",
     "output_type": "stream",
     "text": [
      "--------------- Shape of DataFrame ---------------\n",
      "(5000, 4)\n",
      "\n",
      "----------------- Info DataFrame -----------------\n",
      "<class 'pandas.core.frame.DataFrame'>\n",
      "RangeIndex: 5000 entries, 0 to 4999\n",
      "Data columns (total 4 columns):\n",
      " #   Column       Non-Null Count  Dtype \n",
      "---  ------       --------------  ----- \n",
      " 0   Unnamed: 0   5000 non-null   int64 \n",
      " 1   subreddit    5000 non-null   object\n",
      " 2   body         5000 non-null   object\n",
      " 3   created_utc  5000 non-null   int64 \n",
      "dtypes: int64(2), object(2)\n",
      "memory usage: 156.4+ KB\n",
      "None\n",
      "\n",
      "----------------- DataFrame Head -----------------\n"
     ]
    },
    {
     "data": {
      "text/html": [
       "<div>\n",
       "<style scoped>\n",
       "    .dataframe tbody tr th:only-of-type {\n",
       "        vertical-align: middle;\n",
       "    }\n",
       "\n",
       "    .dataframe tbody tr th {\n",
       "        vertical-align: top;\n",
       "    }\n",
       "\n",
       "    .dataframe thead th {\n",
       "        text-align: right;\n",
       "    }\n",
       "</style>\n",
       "<table border=\"1\" class=\"dataframe\">\n",
       "  <thead>\n",
       "    <tr style=\"text-align: right;\">\n",
       "      <th></th>\n",
       "      <th>Unnamed: 0</th>\n",
       "      <th>subreddit</th>\n",
       "      <th>body</th>\n",
       "      <th>created_utc</th>\n",
       "    </tr>\n",
       "  </thead>\n",
       "  <tbody>\n",
       "    <tr>\n",
       "      <th>0</th>\n",
       "      <td>0</td>\n",
       "      <td>Pixar</td>\n",
       "      <td>Lol another glimpse into a world I'll never know</td>\n",
       "      <td>1631428205</td>\n",
       "    </tr>\n",
       "    <tr>\n",
       "      <th>1</th>\n",
       "      <td>1</td>\n",
       "      <td>Pixar</td>\n",
       "      <td>Agreed!</td>\n",
       "      <td>1631420559</td>\n",
       "    </tr>\n",
       "    <tr>\n",
       "      <th>2</th>\n",
       "      <td>2</td>\n",
       "      <td>Pixar</td>\n",
       "      <td>Cars was my first ever Pixar movie, I would watch it like everyday as a kid, I watched both Cars and Cars 2 like everyday when I was young, I still got the DVDs but they have so many scratches (so I got both New Blu-Rays and DVDs)</td>\n",
       "      <td>1631404031</td>\n",
       "    </tr>\n",
       "    <tr>\n",
       "      <th>3</th>\n",
       "      <td>3</td>\n",
       "      <td>Pixar</td>\n",
       "      <td>Really liked Cqrs 2 anyway, but Pixar movies always have good scores/themes/music</td>\n",
       "      <td>1631403862</td>\n",
       "    </tr>\n",
       "    <tr>\n",
       "      <th>4</th>\n",
       "      <td>4</td>\n",
       "      <td>Pixar</td>\n",
       "      <td>[removed]</td>\n",
       "      <td>1631403580</td>\n",
       "    </tr>\n",
       "  </tbody>\n",
       "</table>\n",
       "</div>"
      ],
      "text/plain": [
       "   Unnamed: 0 subreddit  \\\n",
       "0           0     Pixar   \n",
       "1           1     Pixar   \n",
       "2           2     Pixar   \n",
       "3           3     Pixar   \n",
       "4           4     Pixar   \n",
       "\n",
       "                                                                                                                                                                                                                                     body  \\\n",
       "0                                                                                                                                                                                        Lol another glimpse into a world I'll never know   \n",
       "1                                                                                                                                                                                                                                 Agreed!   \n",
       "2  Cars was my first ever Pixar movie, I would watch it like everyday as a kid, I watched both Cars and Cars 2 like everyday when I was young, I still got the DVDs but they have so many scratches (so I got both New Blu-Rays and DVDs)   \n",
       "3                                                                                                                                                       Really liked Cqrs 2 anyway, but Pixar movies always have good scores/themes/music   \n",
       "4                                                                                                                                                                                                                               [removed]   \n",
       "\n",
       "   created_utc  \n",
       "0   1631428205  \n",
       "1   1631420559  \n",
       "2   1631404031  \n",
       "3   1631403862  \n",
       "4   1631403580  "
      ]
     },
     "execution_count": 143,
     "metadata": {},
     "output_type": "execute_result"
    }
   ],
   "source": [
    "# Import the data and check the headers and shape of the DataFrame.\n",
    "df = pd.read_csv('../data/raw_comment_data.csv')\n",
    "print(\" Shape of DataFrame \".center(50, '-'))\n",
    "print(df.shape)\n",
    "print()\n",
    "print(\" Info DataFrame \".center(50, '-'))\n",
    "print(df.info())\n",
    "print()\n",
    "print(\" DataFrame Head \".center(50, '-'))\n",
    "df.head()"
   ]
  },
  {
   "cell_type": "markdown",
   "id": "2bbdc73c",
   "metadata": {},
   "source": [
    "Becuase it is unlikely that reddit would allow a user to post a comment without anything in it, we can see that we have no missing values. However, as you can see, we have a little bit of cleaning to do. We need to remove any newline characters and whitespace characters from each post. After that, we want to get rid of any URLs that a comment might have in it. This way the URL won't count as a word when we come to `CountVercotrize` the comments. We are not getting ride of the comment itself, just the URL in the comment. The rest of the words in the comment will be preserved. Finally some post will have been removed or deleted, these posts have `[removed]` or `[deleted]` (these can be found by looking at the first 50 rows) in the body column. We will need to drop these columns since we have no information on them. Also we have to drop the `Unnamed: 0` column since we do not need it."
   ]
  },
  {
   "cell_type": "code",
   "execution_count": 144,
   "id": "4a07c82b",
   "metadata": {},
   "outputs": [
    {
     "data": {
      "text/html": [
       "<div>\n",
       "<style scoped>\n",
       "    .dataframe tbody tr th:only-of-type {\n",
       "        vertical-align: middle;\n",
       "    }\n",
       "\n",
       "    .dataframe tbody tr th {\n",
       "        vertical-align: top;\n",
       "    }\n",
       "\n",
       "    .dataframe thead th {\n",
       "        text-align: right;\n",
       "    }\n",
       "</style>\n",
       "<table border=\"1\" class=\"dataframe\">\n",
       "  <thead>\n",
       "    <tr style=\"text-align: right;\">\n",
       "      <th></th>\n",
       "      <th>subreddit</th>\n",
       "      <th>body</th>\n",
       "      <th>created_utc</th>\n",
       "    </tr>\n",
       "  </thead>\n",
       "  <tbody>\n",
       "    <tr>\n",
       "      <th>0</th>\n",
       "      <td>Pixar</td>\n",
       "      <td>Lol another glimpse into a world I'll never know</td>\n",
       "      <td>1631428205</td>\n",
       "    </tr>\n",
       "    <tr>\n",
       "      <th>1</th>\n",
       "      <td>Pixar</td>\n",
       "      <td>Agreed!</td>\n",
       "      <td>1631420559</td>\n",
       "    </tr>\n",
       "    <tr>\n",
       "      <th>2</th>\n",
       "      <td>Pixar</td>\n",
       "      <td>Cars was my first ever Pixar movie, I would watch it like everyday as a kid, I watched both Cars and Cars 2 like everyday when I was young, I still got the DVDs but they have so many scratches (so I got both New Blu-Rays and DVDs)</td>\n",
       "      <td>1631404031</td>\n",
       "    </tr>\n",
       "    <tr>\n",
       "      <th>3</th>\n",
       "      <td>Pixar</td>\n",
       "      <td>Really liked Cqrs 2 anyway, but Pixar movies always have good scores/themes/music</td>\n",
       "      <td>1631403862</td>\n",
       "    </tr>\n",
       "    <tr>\n",
       "      <th>4</th>\n",
       "      <td>Pixar</td>\n",
       "      <td>[removed]</td>\n",
       "      <td>1631403580</td>\n",
       "    </tr>\n",
       "  </tbody>\n",
       "</table>\n",
       "</div>"
      ],
      "text/plain": [
       "  subreddit  \\\n",
       "0     Pixar   \n",
       "1     Pixar   \n",
       "2     Pixar   \n",
       "3     Pixar   \n",
       "4     Pixar   \n",
       "\n",
       "                                                                                                                                                                                                                                     body  \\\n",
       "0                                                                                                                                                                                        Lol another glimpse into a world I'll never know   \n",
       "1                                                                                                                                                                                                                                 Agreed!   \n",
       "2  Cars was my first ever Pixar movie, I would watch it like everyday as a kid, I watched both Cars and Cars 2 like everyday when I was young, I still got the DVDs but they have so many scratches (so I got both New Blu-Rays and DVDs)   \n",
       "3                                                                                                                                                       Really liked Cqrs 2 anyway, but Pixar movies always have good scores/themes/music   \n",
       "4                                                                                                                                                                                                                               [removed]   \n",
       "\n",
       "   created_utc  \n",
       "0   1631428205  \n",
       "1   1631420559  \n",
       "2   1631404031  \n",
       "3   1631403862  \n",
       "4   1631403580  "
      ]
     },
     "execution_count": 144,
     "metadata": {},
     "output_type": "execute_result"
    }
   ],
   "source": [
    "df.drop(columns = 'Unnamed: 0', inplace=True)\n",
    "df.head()"
   ]
  },
  {
   "cell_type": "code",
   "execution_count": 183,
   "id": "a75b1790",
   "metadata": {
    "scrolled": false
   },
   "outputs": [
    {
     "data": {
      "text/html": [
       "<div>\n",
       "<style scoped>\n",
       "    .dataframe tbody tr th:only-of-type {\n",
       "        vertical-align: middle;\n",
       "    }\n",
       "\n",
       "    .dataframe tbody tr th {\n",
       "        vertical-align: top;\n",
       "    }\n",
       "\n",
       "    .dataframe thead th {\n",
       "        text-align: right;\n",
       "    }\n",
       "</style>\n",
       "<table border=\"1\" class=\"dataframe\">\n",
       "  <thead>\n",
       "    <tr style=\"text-align: right;\">\n",
       "      <th></th>\n",
       "      <th>subreddit_name</th>\n",
       "      <th>body</th>\n",
       "      <th>created_utc</th>\n",
       "      <th>comment_length</th>\n",
       "      <th>word_count</th>\n",
       "    </tr>\n",
       "  </thead>\n",
       "  <tbody>\n",
       "    <tr>\n",
       "      <th>0</th>\n",
       "      <td>Pixar</td>\n",
       "      <td>Lol another glimpse into a world I'll never know</td>\n",
       "      <td>1631428205</td>\n",
       "      <td>48</td>\n",
       "      <td>9</td>\n",
       "    </tr>\n",
       "    <tr>\n",
       "      <th>1</th>\n",
       "      <td>Pixar</td>\n",
       "      <td>Agreed!</td>\n",
       "      <td>1631420559</td>\n",
       "      <td>7</td>\n",
       "      <td>1</td>\n",
       "    </tr>\n",
       "    <tr>\n",
       "      <th>2</th>\n",
       "      <td>Pixar</td>\n",
       "      <td>Cars was my first ever Pixar movie, I would watch it like everyday as a kid, I watched both Cars and Cars 2 like everyday when I was young, I still got the DVDs but they have so many scratches (so I got both New Blu-Rays and DVDs)</td>\n",
       "      <td>1631404031</td>\n",
       "      <td>230</td>\n",
       "      <td>48</td>\n",
       "    </tr>\n",
       "    <tr>\n",
       "      <th>3</th>\n",
       "      <td>Pixar</td>\n",
       "      <td>Really liked Cqrs 2 anyway, but Pixar movies always have good scores/themes/music</td>\n",
       "      <td>1631403862</td>\n",
       "      <td>81</td>\n",
       "      <td>12</td>\n",
       "    </tr>\n",
       "    <tr>\n",
       "      <th>5</th>\n",
       "      <td>Pixar</td>\n",
       "      <td>I knew he and his team always has a contest on making the best puns for each cue, but I never knew about this one. Makes me love his work even more!Where did you get these?</td>\n",
       "      <td>1631403433</td>\n",
       "      <td>172</td>\n",
       "      <td>36</td>\n",
       "    </tr>\n",
       "  </tbody>\n",
       "</table>\n",
       "</div>"
      ],
      "text/plain": [
       "  subreddit_name  \\\n",
       "0          Pixar   \n",
       "1          Pixar   \n",
       "2          Pixar   \n",
       "3          Pixar   \n",
       "5          Pixar   \n",
       "\n",
       "                                                                                                                                                                                                                                     body  \\\n",
       "0                                                                                                                                                                                        Lol another glimpse into a world I'll never know   \n",
       "1                                                                                                                                                                                                                                 Agreed!   \n",
       "2  Cars was my first ever Pixar movie, I would watch it like everyday as a kid, I watched both Cars and Cars 2 like everyday when I was young, I still got the DVDs but they have so many scratches (so I got both New Blu-Rays and DVDs)   \n",
       "3                                                                                                                                                       Really liked Cqrs 2 anyway, but Pixar movies always have good scores/themes/music   \n",
       "5                                                            I knew he and his team always has a contest on making the best puns for each cue, but I never knew about this one. Makes me love his work even more!Where did you get these?   \n",
       "\n",
       "   created_utc  comment_length  word_count  \n",
       "0   1631428205              48           9  \n",
       "1   1631420559               7           1  \n",
       "2   1631404031             230          48  \n",
       "3   1631403862              81          12  \n",
       "5   1631403433             172          36  "
      ]
     },
     "execution_count": 183,
     "metadata": {},
     "output_type": "execute_result"
    }
   ],
   "source": [
    "# Renaming subreddit column.\n",
    "df.rename(columns = {'subreddit': 'subreddit_name'}, inplace=True)\n",
    "\n",
    "# First removing and extra whitespace on either side of the post. Then removing newlines.\n",
    "df['body'] = df['body'].apply(lambda x: x.strip().replace('\\n', ''))\n",
    "\n",
    "# Removing URLs from comments\n",
    "df['body'] = df['body'].apply(lambda x: re.sub(r'http\\S+', '', x))\n",
    "\n",
    "# Next we drop rows that have [removed] or [deleted] in the body column.\n",
    "df = df[df['body'] != '[removed]']\n",
    "df = df[df['body'] != '[deleted]']\n",
    "df.head()"
   ]
  },
  {
   "cell_type": "code",
   "execution_count": 184,
   "id": "1711c9a1",
   "metadata": {
    "scrolled": false
   },
   "outputs": [
    {
     "data": {
      "text/plain": [
       "subreddit_name    0\n",
       "body              0\n",
       "created_utc       0\n",
       "comment_length    0\n",
       "word_count        0\n",
       "dtype: int64"
      ]
     },
     "execution_count": 184,
     "metadata": {},
     "output_type": "execute_result"
    }
   ],
   "source": [
    "# Checking for Null Values after clean-up.\n",
    "df.isnull().sum()"
   ]
  },
  {
   "cell_type": "markdown",
   "id": "bb4ad5c1",
   "metadata": {},
   "source": [
    "**Removing URLs from strings [source](https://www.codegrepper.com/code-examples/python/remove+urls+from+text+python).**"
   ]
  },
  {
   "cell_type": "markdown",
   "id": "99482329",
   "metadata": {},
   "source": [
    "### Data Dictionary:\n",
    "|Feature|Type|Description|\n",
    "|---|---|---|\n",
    "|**subreddit_name**|*object*|The name of the subreddit that the comment came from.|\n",
    "|**body**|*object*|The contents of the comment.|\n",
    "|**created_utc**|*int*|The epcoh time stamp of when the comment was created.|\n",
    "|**comment_length**|*int*|How many characters the comment contains.|\n",
    "|**word_count**|*int*|How many words the comment contains.|"
   ]
  },
  {
   "cell_type": "markdown",
   "id": "86f0f7b4-4d6d-443f-ac6b-a4fb970d0db1",
   "metadata": {},
   "source": [
    "---"
   ]
  },
  {
   "cell_type": "markdown",
   "id": "1014252a",
   "metadata": {},
   "source": [
    "## Exploratory Data Analysis\n",
    "\n",
    "Before we `CountVectorize()` the contents of all our reddit comments, let's first look at some basic EDA on our post lengths. To do this, let's add two extra columns to our current `DataFrame`, `word_count` and `comment_length`. With these two columns we can see if any patterns emerge based on the subreddit. Maybe `Pixar` fans post longer comments than `DreamWorks` fans."
   ]
  },
  {
   "cell_type": "code",
   "execution_count": 185,
   "id": "3eca54dd",
   "metadata": {},
   "outputs": [],
   "source": [
    "df['comment_length'] = df['body'].apply(len)\n",
    "df['word_count'] = df['body'].apply(lambda x: len(str(x).split()))"
   ]
  },
  {
   "cell_type": "code",
   "execution_count": 186,
   "id": "2825a8ff",
   "metadata": {
    "scrolled": false
   },
   "outputs": [
    {
     "data": {
      "text/html": [
       "<div>\n",
       "<style scoped>\n",
       "    .dataframe tbody tr th:only-of-type {\n",
       "        vertical-align: middle;\n",
       "    }\n",
       "\n",
       "    .dataframe tbody tr th {\n",
       "        vertical-align: top;\n",
       "    }\n",
       "\n",
       "    .dataframe thead th {\n",
       "        text-align: right;\n",
       "    }\n",
       "</style>\n",
       "<table border=\"1\" class=\"dataframe\">\n",
       "  <thead>\n",
       "    <tr style=\"text-align: right;\">\n",
       "      <th></th>\n",
       "      <th>subreddit_name</th>\n",
       "      <th>body</th>\n",
       "      <th>created_utc</th>\n",
       "      <th>comment_length</th>\n",
       "      <th>word_count</th>\n",
       "    </tr>\n",
       "  </thead>\n",
       "  <tbody>\n",
       "    <tr>\n",
       "      <th>0</th>\n",
       "      <td>Pixar</td>\n",
       "      <td>Lol another glimpse into a world I'll never know</td>\n",
       "      <td>1631428205</td>\n",
       "      <td>48</td>\n",
       "      <td>9</td>\n",
       "    </tr>\n",
       "    <tr>\n",
       "      <th>1</th>\n",
       "      <td>Pixar</td>\n",
       "      <td>Agreed!</td>\n",
       "      <td>1631420559</td>\n",
       "      <td>7</td>\n",
       "      <td>1</td>\n",
       "    </tr>\n",
       "    <tr>\n",
       "      <th>2</th>\n",
       "      <td>Pixar</td>\n",
       "      <td>Cars was my first ever Pixar movie, I would watch it like everyday as a kid, I watched both Cars and Cars 2 like everyday when I was young, I still got the DVDs but they have so many scratches (so I got both New Blu-Rays and DVDs)</td>\n",
       "      <td>1631404031</td>\n",
       "      <td>230</td>\n",
       "      <td>48</td>\n",
       "    </tr>\n",
       "    <tr>\n",
       "      <th>3</th>\n",
       "      <td>Pixar</td>\n",
       "      <td>Really liked Cqrs 2 anyway, but Pixar movies always have good scores/themes/music</td>\n",
       "      <td>1631403862</td>\n",
       "      <td>81</td>\n",
       "      <td>12</td>\n",
       "    </tr>\n",
       "    <tr>\n",
       "      <th>5</th>\n",
       "      <td>Pixar</td>\n",
       "      <td>I knew he and his team always has a contest on making the best puns for each cue, but I never knew about this one. Makes me love his work even more!Where did you get these?</td>\n",
       "      <td>1631403433</td>\n",
       "      <td>172</td>\n",
       "      <td>36</td>\n",
       "    </tr>\n",
       "  </tbody>\n",
       "</table>\n",
       "</div>"
      ],
      "text/plain": [
       "  subreddit_name  \\\n",
       "0          Pixar   \n",
       "1          Pixar   \n",
       "2          Pixar   \n",
       "3          Pixar   \n",
       "5          Pixar   \n",
       "\n",
       "                                                                                                                                                                                                                                     body  \\\n",
       "0                                                                                                                                                                                        Lol another glimpse into a world I'll never know   \n",
       "1                                                                                                                                                                                                                                 Agreed!   \n",
       "2  Cars was my first ever Pixar movie, I would watch it like everyday as a kid, I watched both Cars and Cars 2 like everyday when I was young, I still got the DVDs but they have so many scratches (so I got both New Blu-Rays and DVDs)   \n",
       "3                                                                                                                                                       Really liked Cqrs 2 anyway, but Pixar movies always have good scores/themes/music   \n",
       "5                                                            I knew he and his team always has a contest on making the best puns for each cue, but I never knew about this one. Makes me love his work even more!Where did you get these?   \n",
       "\n",
       "   created_utc  comment_length  word_count  \n",
       "0   1631428205              48           9  \n",
       "1   1631420559               7           1  \n",
       "2   1631404031             230          48  \n",
       "3   1631403862              81          12  \n",
       "5   1631403433             172          36  "
      ]
     },
     "execution_count": 186,
     "metadata": {},
     "output_type": "execute_result"
    }
   ],
   "source": [
    "df.head()"
   ]
  },
  {
   "cell_type": "code",
   "execution_count": 187,
   "id": "d6d8710e",
   "metadata": {},
   "outputs": [
    {
     "name": "stdout",
     "output_type": "stream",
     "text": [
      "------------- Longest 10 Comments by Subreddit -------------\n",
      "3910    DreamWorks\n",
      "470          Pixar\n",
      "3912    DreamWorks\n",
      "1891         Pixar\n",
      "2447         Pixar\n",
      "3914    DreamWorks\n",
      "3909    DreamWorks\n",
      "1784         Pixar\n",
      "961          Pixar\n",
      "3957    DreamWorks\n",
      "Name: subreddit_name, dtype: object\n",
      "\n",
      "\n",
      "------------ Shortest 10 Comments by Subreddit -------------\n",
      "4075    DreamWorks\n",
      "2568    DreamWorks\n",
      "3394    DreamWorks\n",
      "4485    DreamWorks\n",
      "483          Pixar\n",
      "2567    DreamWorks\n",
      "2086         Pixar\n",
      "4999    DreamWorks\n",
      "3020    DreamWorks\n",
      "1354         Pixar\n",
      "Name: subreddit_name, dtype: object\n",
      "\n",
      "\n"
     ]
    }
   ],
   "source": [
    "print(' Longest 10 Comments by Subreddit '.center(60, '-'))\n",
    "print(df.sort_values('word_count', ascending=False).head(10)['subreddit_name'])\n",
    "print('\\n')\n",
    "print(' Shortest 10 Comments by Subreddit '.center(60, '-'))\n",
    "print(df.sort_values('word_count').head(10)['subreddit_name'])\n",
    "print('\\n')"
   ]
  },
  {
   "cell_type": "markdown",
   "id": "4fb156c8",
   "metadata": {},
   "source": [
    "Above we see the subreddits to which the top 10 shortest and top 10 longest comments belong to. For the longest comments, it seems to be an even split between both subreddits, but we can see that majority of the top 10 shortest comments belong to the `DreamWorks` subreddit. Let's take this further and see the distribution of the posts based on each subreddit.\n",
    "\n",
    "First thing we can look at is the average `word_count` and average `comment_length` based on each subreddit."
   ]
  },
  {
   "cell_type": "code",
   "execution_count": 188,
   "id": "a24e80c9",
   "metadata": {},
   "outputs": [
    {
     "data": {
      "text/html": [
       "<div>\n",
       "<style scoped>\n",
       "    .dataframe tbody tr th:only-of-type {\n",
       "        vertical-align: middle;\n",
       "    }\n",
       "\n",
       "    .dataframe tbody tr th {\n",
       "        vertical-align: top;\n",
       "    }\n",
       "\n",
       "    .dataframe thead th {\n",
       "        text-align: right;\n",
       "    }\n",
       "</style>\n",
       "<table border=\"1\" class=\"dataframe\">\n",
       "  <thead>\n",
       "    <tr style=\"text-align: right;\">\n",
       "      <th></th>\n",
       "      <th>word_count</th>\n",
       "      <th>comment_length</th>\n",
       "    </tr>\n",
       "    <tr>\n",
       "      <th>subreddit_name</th>\n",
       "      <th></th>\n",
       "      <th></th>\n",
       "    </tr>\n",
       "  </thead>\n",
       "  <tbody>\n",
       "    <tr>\n",
       "      <th>DreamWorks</th>\n",
       "      <td>22.83854</td>\n",
       "      <td>123.903448</td>\n",
       "    </tr>\n",
       "    <tr>\n",
       "      <th>Pixar</th>\n",
       "      <td>22.71204</td>\n",
       "      <td>123.093504</td>\n",
       "    </tr>\n",
       "  </tbody>\n",
       "</table>\n",
       "</div>"
      ],
      "text/plain": [
       "                word_count  comment_length\n",
       "subreddit_name                            \n",
       "DreamWorks        22.83854      123.903448\n",
       "Pixar             22.71204      123.093504"
      ]
     },
     "execution_count": 188,
     "metadata": {},
     "output_type": "execute_result"
    }
   ],
   "source": [
    "df.groupby('subreddit_name').mean()[['word_count', 'comment_length']]"
   ]
  },
  {
   "cell_type": "markdown",
   "id": "02053483",
   "metadata": {},
   "source": [
    "Although our top 10 checks may have given and indication that `DreamWorks` comments might tend to be shorter compaired to `Pixar` comments, by looking at the average `word_count` and `comment_length` for each subreddit, we can see that these subreddits have extremely similar average comment lengths.\n",
    "\n",
    "Another thing we can look at is a distribution of the `comment_length` for each subreddit. We can do this by plotting some histograms for each subreddit."
   ]
  },
  {
   "cell_type": "code",
   "execution_count": 189,
   "id": "5cb38141",
   "metadata": {
    "scrolled": false
   },
   "outputs": [
    {
     "data": {
      "image/png": "[encoded data removed]",
      "text/plain": [
       "<Figure size 576x576 with 2 Axes>"
      ]
     },
     "metadata": {
      "needs_background": "light"
     },
     "output_type": "display_data"
    }
   ],
   "source": [
    "fig, axes = plt.subplots(2, 1, figsize=(8, 8), tight_layout=True, sharex=True, sharey=True)\n",
    "\n",
    "sns.histplot(data=df[df['subreddit_name'] == 'Pixar'], x='comment_length', color='red', ax=axes[0]).set(title='Pixar')\n",
    "sns.histplot(data=df[df['subreddit_name'] == 'DreamWorks'], x='comment_length', color='blue', ax=axes[1]).set(title='DreamWorks');\n",
    "\n",
    "# Add a Super Title\n",
    "fig.suptitle('Distribution of Comment Lengths Based on Subreddit', ha='center')\n",
    "\n",
    "# Saving Figure\n",
    "fig.get_figure().savefig('../figures/Comment Length Distribution Bases on Subreddit.jpg', bbox_inches='tight')"
   ]
  },
  {
   "cell_type": "markdown",
   "id": "9f7b54e0",
   "metadata": {},
   "source": [
    "Based on the histograms above, we can see that the distribution of comment lengths are quite similar between both subreddits. One thing to note is that the majority of short `DreamWorks` comment slightly out number the short `Pixar` comments. This means that the `DreamWorks` subreddit has a bit more shorter comments than `Pixar`.\n",
    "\n",
    "Now that we looked at the comment lengths of each subreddit, it's time to look at the different words used in each subreddit. Each subreddit could have a set of words that are used more than the other. To do this we will need to `CountVectorize` our comments.\n",
    "\n",
    "**NOTE:** Since we are still doing EDA, I will split up the messages when we start building the models."
   ]
  },
  {
   "cell_type": "code",
   "execution_count": 190,
   "id": "292dfefc",
   "metadata": {},
   "outputs": [],
   "source": [
    "X_eda = df['body']\n",
    "\n",
    "cvec_eda = CountVectorizer(stop_words='english')\n",
    "cvec_eda.fit(X_eda)\n",
    "eda_data = cvec_eda.transform(X_eda)\n",
    "eda_df = pd.DataFrame(eda_data.todense(), columns=cvec_eda.get_feature_names())\n",
    "\n",
    "eda_df_master = pd.concat([eda_df, df['subreddit_name']], axis=1)"
   ]
  },
  {
   "cell_type": "code",
   "execution_count": 284,
   "id": "356cb872",
   "metadata": {},
   "outputs": [
    {
     "data": {
      "image/png": "[encoded data removed]",
      "text/plain": [
       "<Figure size 576x720 with 2 Axes>"
      ]
     },
     "metadata": {
      "needs_background": "light"
     },
     "output_type": "display_data"
    }
   ],
   "source": [
    "fig, axes = plt.subplots(2, 1, figsize=(8, 10), tight_layout=True)\n",
    "\n",
    "(eda_df_master[eda_df_master['subreddit_name'] == 'Pixar']\n",
    ".drop(columns=['subreddit_name'])\n",
    ".sum()\n",
    ".sort_values(ascending=False)\n",
    ".head(15)\n",
    ".plot(kind='barh', title='Top 15 Words from Pixar Subreddit', color='tab:red', ax=axes[0]));\n",
    "\n",
    "(eda_df_master[eda_df_master['subreddit_name'] == 'DreamWorks']\n",
    ".drop(columns=['subreddit_name'])\n",
    ".sum()\n",
    ".sort_values(ascending=False)\n",
    ".head(15)\n",
    ".plot(kind='barh', title='Top 15 Words from DreamWorks Subreddit', color='tab:blue', ax=axes[1]));\n",
    "\n",
    "# Saving Figure\n",
    "fig.get_figure().savefig('../figures/Frequent Words Bases on Subreddit.jpg', bbox_inches='tight')"
   ]
  },
  {
   "cell_type": "markdown",
   "id": "aa9db79b",
   "metadata": {},
   "source": [
    "Above is a list of the top 15 words used in each subreddit, excluding the stop words. As we can see both subreddits us the words `movie` and `like` the most. After that the subreddits start to differ a bit in the words they use the most."
   ]
  },
  {
   "cell_type": "markdown",
   "id": "a01f080d",
   "metadata": {},
   "source": [
    "---"
   ]
  },
  {
   "cell_type": "markdown",
   "id": "78e750c6-39f4-4f69-a15d-71fa6340fbf0",
   "metadata": {},
   "source": [
    "## Processing & Modeling\n",
    "\n",
    "Now we will model our data to try and predict where a comment belongs to the `Pixar` subreddit or the `DreamWorks` subreddit. We will split out data into train and test groups, `CountVectorize` our comments, and then apply them to out models."
   ]
  },
  {
   "cell_type": "code",
   "execution_count": 219,
   "id": "71fb04b1",
   "metadata": {},
   "outputs": [
    {
     "data": {
      "text/plain": [
       "DreamWorks    0.504916\n",
       "Pixar         0.495084\n",
       "Name: subreddit_name, dtype: float64"
      ]
     },
     "execution_count": 219,
     "metadata": {},
     "output_type": "execute_result"
    }
   ],
   "source": [
    "# Null Model\n",
    "df['subreddit_name'].value_counts(normalize=True)"
   ]
  },
  {
   "cell_type": "code",
   "execution_count": 265,
   "id": "44d89e91",
   "metadata": {
    "scrolled": false
   },
   "outputs": [
    {
     "name": "stdout",
     "output_type": "stream",
     "text": [
      "------------- Model 1 MNB --------------\n",
      "Train Score: \t0.8686\n",
      "Test Score: \t0.7682\n",
      "\n",
      "\n",
      "------------- Model 2 Logr -------------\n",
      "Train Score: \t0.9088\n",
      "Test Score: \t0.7592\n",
      "\n",
      "\n",
      "--------- Model 3 RandomForest ---------\n",
      "Train Score: \t0.9776\n",
      "Test Score: \t0.7453\n",
      "\n",
      "\n",
      "------------- Model 4 KNN --------------\n",
      "Train Score: \t0.7667\n",
      "Test Score: \t0.5913\n",
      "\n",
      "\n",
      "------ Model 5 RandomForest Grid -------\n",
      "Parameter: \t{'rf__max_depth': None, 'rf__max_features': 'sqrt', 'rf__n_estimators': 100}\n",
      "Train Score: \t0.9776\n",
      "Test Score: \t0.7445\n",
      "\n",
      "\n"
     ]
    }
   ],
   "source": [
    "# Train-Test-Split\n",
    "X = df['body']\n",
    "y = df['subreddit_name']\n",
    "\n",
    "X_train, X_test, y_train, y_test = train_test_split(X, y, random_state=7, stratify=y)\n",
    "\n",
    "\n",
    "# Model 1\n",
    "pipe_1 = Pipeline([\n",
    "    ('cv', CountVectorizer(min_df=2)),\n",
    "    ('mnb', MultinomialNB())\n",
    "])\n",
    "\n",
    "pipe_1.fit(X_train, y_train)\n",
    "print(' Model 1 MNB '.center(40, '-'))\n",
    "print(f'Train Score: \\t{pipe_1.score(X_train, y_train):.4f}')\n",
    "print(f'Test Score: \\t{pipe_1.score(X_test, y_test):.4f}')\n",
    "print('\\n')\n",
    "\n",
    "# Model 2\n",
    "pipe_2 = Pipeline([\n",
    "    ('cv', CountVectorizer(min_df=2)),\n",
    "    ('logr', LogisticRegressionCV(solver='liblinear'))\n",
    "])\n",
    "\n",
    "pipe_2.fit(X_train, y_train)\n",
    "print(' Model 2 Logr '.center(40, '-'))\n",
    "print(f'Train Score: \\t{pipe_2.score(X_train, y_train):.4f}')\n",
    "print(f'Test Score: \\t{pipe_2.score(X_test, y_test):.4f}')\n",
    "print('\\n')\n",
    "\n",
    "# Model 3\n",
    "pipe_3 = Pipeline([\n",
    "    ('cv', CountVectorizer(min_df=2)),\n",
    "    ('rf', RandomForestClassifier())\n",
    "])\n",
    "\n",
    "pipe_3.fit(X_train, y_train)\n",
    "print(' Model 3 RandomForest '.center(40, '-'))\n",
    "print(f'Train Score: \\t{pipe_3.score(X_train, y_train):.4f}')\n",
    "print(f'Test Score: \\t{pipe_3.score(X_test, y_test):.4f}')\n",
    "print('\\n')\n",
    "\n",
    "\n",
    "# Model 4\n",
    "pipe_4 = Pipeline([\n",
    "    ('cv', CountVectorizer(min_df=2)),\n",
    "    ('knn', KNeighborsClassifier())\n",
    "])\n",
    "\n",
    "pipe_4.fit(X_train, y_train)\n",
    "print(' Model 4 KNN '.center(40, '-'))\n",
    "print(f'Train Score: \\t{pipe_4.score(X_train, y_train):.4f}')\n",
    "print(f'Test Score: \\t{pipe_4.score(X_test, y_test):.4f}')\n",
    "print('\\n')\n",
    "\n",
    "\n",
    "# Model 5\n",
    "pipe_5 = Pipeline([\n",
    "    ('cv', CountVectorizer(min_df=2)),\n",
    "    ('rf', RandomForestClassifier())\n",
    "])\n",
    "\n",
    "params = {\n",
    "    'rf__n_estimators': [100, 150, 200],\n",
    "    'rf__max_depth': [None, 1, 2, 3, 4, 5],\n",
    "    'rf__max_features': ['sqrt', 0.5]\n",
    "}\n",
    "\n",
    "grid = GridSearchCV(pipe_5, param_grid=params, cv=5, n_jobs=-1)\n",
    "\n",
    "grid.fit(X_train, y_train)\n",
    "print(' Model 5 RandomForest Grid '.center(40, '-'))\n",
    "print(f'Parameter: \\t{grid.best_params_}')\n",
    "print(f'Train Score: \\t{grid.score(X_train, y_train):.4f}')\n",
    "print(f'Test Score: \\t{grid.score(X_test, y_test):.4f}')\n",
    "print('\\n')"
   ]
  },
  {
   "cell_type": "markdown",
   "id": "a387f33d-5d25-477e-bb81-f9b441e07193",
   "metadata": {},
   "source": [
    "---"
   ]
  },
  {
   "cell_type": "markdown",
   "id": "c8254d25-b4ed-4eda-ab0d-902da9c7e93a",
   "metadata": {},
   "source": [
    "## Evaluation and Conceptual Understanding\n",
    "\n",
    "All of the models I created were overfitting, that being said Model 1 did the best overall. Ideally for this model we want to make sure we have a high `accuracy` for it. We also want to maximize our model's `precision` over the other metrics. This way, we may accidently assign a comment of not being in a subreddit when it is (i.e. say that it does not belong to `Pixar` when it actually does). But this way we will not assign a comment to the wrong subreddit (i.e say that a `DreamWorks` comment is a `Pixar` comment).\n",
    "\n",
    "We can check our model's `preicions` but getting the `False Positives (FP)`, `True Positives (TP)`, `True Negatives (TN)`, and `False Negatives (FN)` from our best model."
   ]
  },
  {
   "cell_type": "code",
   "execution_count": 283,
   "id": "5a8d4589",
   "metadata": {},
   "outputs": [
    {
     "name": "stdout",
     "output_type": "stream",
     "text": [
      "Precision: \t0.7520\n",
      "\n",
      "\n"
     ]
    },
    {
     "data": {
      "image/png": "[encoded data removed]",
      "text/plain": [
       "<Figure size 432x288 with 2 Axes>"
      ]
     },
     "metadata": {
      "needs_background": "light"
     },
     "output_type": "display_data"
    }
   ],
   "source": [
    "# Get predictions from best model\n",
    "y_hat = pipe_1.predict(X_test)\n",
    "\n",
    "# Save confusion matrix values\n",
    "tn, fp, fn, tp = confusion_matrix(y_test, y_hat).ravel()\n",
    "\n",
    "c_matrix = plot_confusion_matrix(pipe_1, X_test, y_test, cmap='Blues')\n",
    "\n",
    "# Calculate Precision\n",
    "print(f'Precision: \\t{(tp / (tp + fp)):.4f}')\n",
    "print('\\n')\n",
    "c_matrix.figure_.savefig('../figures/Confusion Matrix.jpg')"
   ]
  },
  {
   "cell_type": "markdown",
   "id": "a8c5ba5b",
   "metadata": {},
   "source": [
    "Our precision isn't great so we will want to work on tweeking the model in order to get that value as close to `1.000` as possible."
   ]
  },
  {
   "cell_type": "markdown",
   "id": "aebfb9fa-18fb-4aa0-8ac7-ffcfc958a374",
   "metadata": {},
   "source": [
    "---"
   ]
  },
  {
   "cell_type": "markdown",
   "id": "b0b4c4fd-efe1-40c1-8199-2bc4d66ce766",
   "metadata": {},
   "source": [
    "## Conclusion and Recommendations\n",
    "For our problem statement, I would deploy my `Model 1: MultinomialNB()`. With this, we can scrape a bunch of posts from other websites, such as Facebook and Twitter to predict which users might be Pixar fans. We can then run these posts through the predict method for my model.\n",
    "``` python\n",
    "pipe_1 = Pipeline([\n",
    "    ('cv', CountVectorizer(min_df=2)),\n",
    "    ('mnb', MultinomialNB())\n",
    "])\n",
    "\n",
    "pipe_1.fit(X_train, y_train)\n",
    "pipe_1.predict([YOUR_COMMENT])\n",
    "```\n",
    "\n",
    "By passing a list of user comments in the `YOUR_COMMENT` section shown above, it can give `DreamWorks` a prediction on whether or not that person could be a `Pixar` fan; and if so send them DreamWorks advertisements.\n",
    "\n",
    "Going forward, I would like to use more grid searches to dry and improve my model's `score` as well as increase my `precision score`.\n",
    "\n",
    "---"
   ]
  }
 ],
 "metadata": {
  "kernelspec": {
   "display_name": "Python 3 (ipykernel)",
   "language": "python",
   "name": "python3"
  },
  "language_info": {
   "codemirror_mode": {
    "name": "ipython",
    "version": 3
   },
   "file_extension": ".py",
   "mimetype": "text/x-python",
   "name": "python",
   "nbconvert_exporter": "python",
   "pygments_lexer": "ipython3",
   "version": "3.8.8"
  }
 },
 "nbformat": 4,
 "nbformat_minor": 5
}
